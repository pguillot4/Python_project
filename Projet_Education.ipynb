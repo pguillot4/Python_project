{
  "nbformat": 4,
  "nbformat_minor": 0,
  "metadata": {
    "colab": {
      "name": "Projet Eduction.ipynb",
      "provenance": [],
      "collapsed_sections": []
    },
    "kernelspec": {
      "name": "python3",
      "display_name": "Python 3"
    }
  },
  "cells": [
    {
      "cell_type": "code",
      "metadata": {
        "id": "iQ7Nd8mfVJBf"
      },
      "source": [
        "import numpy as np\n",
        "import pandas as pd"
      ],
      "execution_count": null,
      "outputs": []
    },
    {
      "cell_type": "markdown",
      "metadata": {
        "id": "84wnRr1G-v-m"
      },
      "source": [
        "**Importation des bases de données contenant les indicateurs suivants :**\n",
        "- Le niveau de diplôme et de formation par commune (data_diplome);\n",
        "- La catégorie socio-professionnelle par commune (data_csp);\n",
        "-\tLe taux d’activité par tranche d’âge par commune (data_activite);\n",
        "- La médiane du niveau de vie par département (data_mediane);\n",
        "-\tLe salaire net horaire moyen par département (data_salhor).\n",
        "\n",
        "\n",
        "\n"
      ]
    },
    {
      "cell_type": "code",
      "metadata": {
        "id": "e1zHlZRn-nph",
        "outputId": "f07c1ea2-76ea-4031-eb4b-53b1ebefefde",
        "colab": {
          "base_uri": "https://localhost:8080/"
        }
      },
      "source": [
        "data_mediane = pd.read_csv(\"/content/Médiane du niveau de vie 2017.csv\", sep =\";\", skiprows=2)\n",
        "data_salhor = pd.read_csv(\"/content/Salaire net horaire moyen par département 2017.csv\", sep =\";\", skiprows=2)\n",
        "\n",
        "print(data_mediane.head(5))\n",
        "print(data_mediane.dtypes)"
      ],
      "execution_count": null,
      "outputs": [
        {
          "output_type": "stream",
          "text": [
            "  Code                  Libellé  Médiane du niveau de vie 2017\n",
            "0   01                      Ain                        22640.0\n",
            "1   02                    Aisne                        19100.0\n",
            "2   03                   Allier                        19750.0\n",
            "3   04  Alpes-de-Haute-Provence                        19940.0\n",
            "4   05             Hautes-Alpes                        20350.0\n",
            "Code                              object\n",
            "Libellé                           object\n",
            "Médiane du niveau de vie 2017    float64\n",
            "dtype: object\n"
          ],
          "name": "stdout"
        }
      ]
    },
    {
      "cell_type": "code",
      "metadata": {
        "id": "n1mgaEj-1cQg",
        "outputId": "c090d63a-d15e-4407-bfd0-dee24ab7c704",
        "colab": {
          "base_uri": "https://localhost:8080/",
          "height": 415
        }
      },
      "source": [
        "pd.merge(data_mediane, data_salhor, on=['Code','Libellé'], how='left')"
      ],
      "execution_count": null,
      "outputs": [
        {
          "output_type": "execute_result",
          "data": {
            "text/html": [
              "<div>\n",
              "<style scoped>\n",
              "    .dataframe tbody tr th:only-of-type {\n",
              "        vertical-align: middle;\n",
              "    }\n",
              "\n",
              "    .dataframe tbody tr th {\n",
              "        vertical-align: top;\n",
              "    }\n",
              "\n",
              "    .dataframe thead th {\n",
              "        text-align: right;\n",
              "    }\n",
              "</style>\n",
              "<table border=\"1\" class=\"dataframe\">\n",
              "  <thead>\n",
              "    <tr style=\"text-align: right;\">\n",
              "      <th></th>\n",
              "      <th>Code</th>\n",
              "      <th>Libellé</th>\n",
              "      <th>Médiane du niveau de vie 2017</th>\n",
              "      <th>Salaire net horaire moyen 2017</th>\n",
              "    </tr>\n",
              "  </thead>\n",
              "  <tbody>\n",
              "    <tr>\n",
              "      <th>0</th>\n",
              "      <td>01</td>\n",
              "      <td>Ain</td>\n",
              "      <td>22640.0</td>\n",
              "      <td>13.86</td>\n",
              "    </tr>\n",
              "    <tr>\n",
              "      <th>1</th>\n",
              "      <td>02</td>\n",
              "      <td>Aisne</td>\n",
              "      <td>19100.0</td>\n",
              "      <td>12.81</td>\n",
              "    </tr>\n",
              "    <tr>\n",
              "      <th>2</th>\n",
              "      <td>03</td>\n",
              "      <td>Allier</td>\n",
              "      <td>19750.0</td>\n",
              "      <td>12.45</td>\n",
              "    </tr>\n",
              "    <tr>\n",
              "      <th>3</th>\n",
              "      <td>04</td>\n",
              "      <td>Alpes-de-Haute-Provence</td>\n",
              "      <td>19940.0</td>\n",
              "      <td>12.97</td>\n",
              "    </tr>\n",
              "    <tr>\n",
              "      <th>4</th>\n",
              "      <td>05</td>\n",
              "      <td>Hautes-Alpes</td>\n",
              "      <td>20350.0</td>\n",
              "      <td>12.21</td>\n",
              "    </tr>\n",
              "    <tr>\n",
              "      <th>...</th>\n",
              "      <td>...</td>\n",
              "      <td>...</td>\n",
              "      <td>...</td>\n",
              "      <td>...</td>\n",
              "    </tr>\n",
              "    <tr>\n",
              "      <th>96</th>\n",
              "      <td>971</td>\n",
              "      <td>Guadeloupe</td>\n",
              "      <td>NaN</td>\n",
              "      <td>14.08</td>\n",
              "    </tr>\n",
              "    <tr>\n",
              "      <th>97</th>\n",
              "      <td>972</td>\n",
              "      <td>Martinique</td>\n",
              "      <td>17580.0</td>\n",
              "      <td>13.84</td>\n",
              "    </tr>\n",
              "    <tr>\n",
              "      <th>98</th>\n",
              "      <td>973</td>\n",
              "      <td>Guyane</td>\n",
              "      <td>NaN</td>\n",
              "      <td>14.70</td>\n",
              "    </tr>\n",
              "    <tr>\n",
              "      <th>99</th>\n",
              "      <td>974</td>\n",
              "      <td>La Réunion</td>\n",
              "      <td>15020.0</td>\n",
              "      <td>13.05</td>\n",
              "    </tr>\n",
              "    <tr>\n",
              "      <th>100</th>\n",
              "      <td>976</td>\n",
              "      <td>Mayotte</td>\n",
              "      <td>NaN</td>\n",
              "      <td>NaN</td>\n",
              "    </tr>\n",
              "  </tbody>\n",
              "</table>\n",
              "<p>101 rows × 4 columns</p>\n",
              "</div>"
            ],
            "text/plain": [
              "    Code  ... Salaire net horaire moyen 2017\n",
              "0     01  ...                          13.86\n",
              "1     02  ...                          12.81\n",
              "2     03  ...                          12.45\n",
              "3     04  ...                          12.97\n",
              "4     05  ...                          12.21\n",
              "..   ...  ...                            ...\n",
              "96   971  ...                          14.08\n",
              "97   972  ...                          13.84\n",
              "98   973  ...                          14.70\n",
              "99   974  ...                          13.05\n",
              "100  976  ...                            NaN\n",
              "\n",
              "[101 rows x 4 columns]"
            ]
          },
          "metadata": {
            "tags": []
          },
          "execution_count": 34
        }
      ]
    }
  ]
}